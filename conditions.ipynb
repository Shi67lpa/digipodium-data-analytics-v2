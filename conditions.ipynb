{
 "cells": [
  {
   "cell_type": "code",
   "execution_count": 1,
   "metadata": {},
   "outputs": [],
   "source": [
    "x =100"
   ]
  },
  {
   "cell_type": "code",
   "execution_count": 8,
   "metadata": {},
   "outputs": [
    {
     "name": "stdout",
     "output_type": "stream",
     "text": [
      " x iss greter than 10\n"
     ]
    }
   ],
   "source": [
    "if x>10:\n",
    "   print (\" x iss greter than 10\")\n",
    "    "
   ]
  },
  {
   "cell_type": "code",
   "execution_count": 12,
   "metadata": {},
   "outputs": [],
   "source": [
    "name = ' William shakespeare'"
   ]
  },
  {
   "cell_type": "code",
   "execution_count": 13,
   "metadata": {},
   "outputs": [
    {
     "data": {
      "text/plain": [
       "False"
      ]
     },
     "execution_count": 13,
     "metadata": {},
     "output_type": "execute_result"
    }
   ],
   "source": [
    "'will' in name"
   ]
  },
  {
   "cell_type": "code",
   "execution_count": 14,
   "metadata": {},
   "outputs": [
    {
     "name": "stdout",
     "output_type": "stream",
     "text": [
      "spear found in name\n"
     ]
    }
   ],
   "source": [
    "if 'spear' in name:\n",
    "    print('spear found in name')"
   ]
  },
  {
   "cell_type": "code",
   "execution_count": 15,
   "metadata": {},
   "outputs": [
    {
     "name": "stdout",
     "output_type": "stream",
     "text": [
      "you are a child\n",
      "you can not vote\n",
      "you can vote in 6 years\n"
     ]
    }
   ],
   "source": [
    "age=int(input('what is your age:'))\n",
    "if age >=18:\n",
    "    print('you are an adult')\n",
    "    print('you can vote')\n",
    "else:\n",
    "    print('you are a child')\n",
    "    print('you can not vote')\n",
    "    print('you can vote in' ,18 -age ,'years')"
   ]
  },
  {
   "cell_type": "code",
   "execution_count": 17,
   "metadata": {},
   "outputs": [
    {
     "name": "stdout",
     "output_type": "stream",
     "text": [
      "welcome to the ice cream shop\n",
      "here is your butterscotch\n"
     ]
    }
   ],
   "source": [
    "#if elif else ladder\n",
    "print('welcome to the ice cream shop')\n",
    "flavour=input('what flavour do you want?')\n",
    "if flavour=='vanilla':\n",
    "    print('hear is your vanilla🍦')\n",
    "elif flavour =='choclate':\n",
    "    print('here is  your choclate🍦')\n",
    "elif flavour =='strawbeery':\n",
    "    print('here is your strawberry🍦')\n",
    "elif flavour == 'butterscotch':\n",
    "    print('here is your butterscotch🍦')\n",
    "else:\n",
    "  print('sorry we do not have',flavour,'flavour')"
   ]
  }
 ],
 "metadata": {
  "kernelspec": {
   "display_name": "base",
   "language": "python",
   "name": "python3"
  },
  "language_info": {
   "codemirror_mode": {
    "name": "ipython",
    "version": 3
   },
   "file_extension": ".py",
   "mimetype": "text/x-python",
   "name": "python",
   "nbconvert_exporter": "python",
   "pygments_lexer": "ipython3",
   "version": "3.10.10"
  },
  "orig_nbformat": 4
 },
 "nbformat": 4,
 "nbformat_minor": 2
}
