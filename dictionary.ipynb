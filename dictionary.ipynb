{
 "cells": [
  {
   "cell_type": "code",
   "execution_count": 1,
   "metadata": {},
   "outputs": [],
   "source": [
    "lbs_info ={\n",
    "    'full name':\"lal bahadur shastri girls college of management\",\n",
    "    'short name':'lbs',\n",
    "    'students': 440,\n",
    "    'culture':'mood kharab bacche'\n",
    "}"
   ]
  },
  {
   "cell_type": "code",
   "execution_count": 2,
   "metadata": {},
   "outputs": [],
   "source": [
    "movies={\n",
    "   'suryavansham': {\n",
    "        'stremaed on':'sony max',\n",
    "        'plot':'Rich father doesnot like his illitrate son',\n",
    "        'rating':10,\n",
    "    },\n",
    "    'ghajini':{\n",
    "        'plot':'rich person forgets everything after 15 minutes',\n",
    "        'rating':10,\n",
    "        'streamed on':'jio cinema'\n",
    "    },\n",
    "    'ham aap hai kaun':{\n",
    "         'plot':'love depend on stitution',\n",
    "         'rating':10,\n",
    "         'stremed on':'star plus' \n",
    "    },\n",
    "    'kerala':{\n",
    "     'plot':'love jihad',\n",
    "     'rating':10,\n",
    "     'streamed on':'Amazon prime'\n",
    "    },\n",
    "'adipurush':{\n",
    "'plot':'based on ramayana',\n",
    "' rating':0,\n",
    "'streamed on':'Netflix'\n",
    "},\n",
    "}\n"
   ]
  },
  {
   "cell_type": "code",
   "execution_count": 3,
   "metadata": {},
   "outputs": [],
   "source": [
    "movies['3 idiots']={\n",
    "    'streamed on':'Amazon prime',\n",
    "    'plot':'3 frinds in college',\n",
    "    'rating':10\n",
    "}"
   ]
  },
  {
   "cell_type": "code",
   "execution_count": 5,
   "metadata": {},
   "outputs": [
    {
     "data": {
      "text/plain": [
       "'rich person forgets everything after 15 minutes'"
      ]
     },
     "execution_count": 5,
     "metadata": {},
     "output_type": "execute_result"
    }
   ],
   "source": [
    "movies['ghajini']['plot']"
   ]
  },
  {
   "cell_type": "code",
   "execution_count": 6,
   "metadata": {},
   "outputs": [
    {
     "data": {
      "text/plain": [
       "['suryavansham',\n",
       " 'ghajini',\n",
       " 'ham aap hai kaun',\n",
       " 'kerala',\n",
       " 'adipurush',\n",
       " '3 idiots']"
      ]
     },
     "execution_count": 6,
     "metadata": {},
     "output_type": "execute_result"
    }
   ],
   "source": [
    "list(movies.keys())"
   ]
  },
  {
   "cell_type": "code",
   "execution_count": 7,
   "metadata": {},
   "outputs": [
    {
     "data": {
      "text/plain": [
       "[{'stremaed on': 'sony max',\n",
       "  'plot': 'Rich father doesnot like his illitrate son',\n",
       "  'rating': 10},\n",
       " {'plot': 'rich person forgets everything after 15 minutes',\n",
       "  'rating': 10,\n",
       "  'streamed on': 'jio cinema'},\n",
       " {'plot': 'love depend on stitution', 'rating': 10, 'stremed on': 'star plus'},\n",
       " {'plot': 'love jihad', 'rating': 10, 'streamed on': 'Amazon prime'},\n",
       " {'plot': 'based on ramayana', ' rating': 0, 'streamed on': 'Netflix'},\n",
       " {'streamed on': 'Amazon prime', 'plot': '3 frinds in college', 'rating': 10}]"
      ]
     },
     "execution_count": 7,
     "metadata": {},
     "output_type": "execute_result"
    }
   ],
   "source": [
    "list(movies.values())"
   ]
  },
  {
   "cell_type": "code",
   "execution_count": 9,
   "metadata": {},
   "outputs": [
    {
     "data": {
      "text/plain": [
       "dict_items([('suryavansham', {'stremaed on': 'sony max', 'plot': 'Rich father doesnot like his illitrate son', 'rating': 10}), ('ghajini', {'plot': 'rich person forgets everything after 15 minutes', 'rating': 10, 'streamed on': 'jio cinema'}), ('ham aap hai kaun', {'plot': 'love depend on stitution', 'rating': 10, 'stremed on': 'star plus'}), ('kerala', {'plot': 'love jihad', 'rating': 10, 'streamed on': 'Amazon prime'}), ('adipurush', {'plot': 'based on ramayana', ' rating': 0, 'streamed on': 'Netflix'}), ('3 idiots', {'streamed on': 'Amazon prime', 'plot': '3 frinds in college', 'rating': 10})])"
      ]
     },
     "execution_count": 9,
     "metadata": {},
     "output_type": "execute_result"
    }
   ],
   "source": [
    "movies.items()"
   ]
  },
  {
   "cell_type": "code",
   "execution_count": 10,
   "metadata": {},
   "outputs": [
    {
     "name": "stdout",
     "output_type": "stream",
     "text": [
      "SURYAVANSHAM\n",
      "stremaed on    sony max\n",
      "\n",
      "plot           Rich father doesnot like his illitrate son\n",
      "\n",
      "rating         10\n",
      "\n",
      "GHAJINI\n",
      "plot           rich person forgets everything after 15 minutes\n",
      "\n",
      "rating         10\n",
      "\n",
      "streamed on    jio cinema\n",
      "\n",
      "HAM AAP HAI KAUN\n",
      "plot           love depend on stitution\n",
      "\n",
      "rating         10\n",
      "\n",
      "stremed on     star plus\n",
      "\n",
      "KERALA\n",
      "plot           love jihad\n",
      "\n",
      "rating         10\n",
      "\n",
      "streamed on    Amazon prime\n",
      "\n",
      "ADIPURUSH\n",
      "plot           based on ramayana\n",
      "\n",
      " rating        0\n",
      "\n",
      "streamed on    Netflix\n",
      "\n",
      "3 IDIOTS\n",
      "streamed on    Amazon prime\n",
      "\n",
      "plot           3 frinds in college\n",
      "\n",
      "rating         10\n",
      "\n"
     ]
    }
   ],
   "source": [
    "for title,details in movies.items():\n",
    "    print (title.upper())\n",
    "    for entry,value in details.items():\n",
    "        print(f'{entry:15}{value}')\n",
    "        print()"
   ]
  },
  {
   "cell_type": "code",
   "execution_count": 11,
   "metadata": {},
   "outputs": [
    {
     "name": "stdout",
     "output_type": "stream",
     "text": [
      "{'suryavansham': {'stremaed on': 'sony max', 'plot': 'Rich father doesnot like his illitrate son', 'rating': 10}, 'ghajini': {'plot': 'rich person forgets everything after 15 minutes', 'rating': 10, 'streamed on': 'jio cinema'}, 'ham aap hai kaun': {'plot': 'love depend on stitution', 'rating': 10, 'stremed on': 'star plus'}, 'kerala': {'plot': 'love jihad', 'rating': 10, 'streamed on': 'Amazon prime'}, '3 idiots': {'streamed on': 'Amazon prime', 'plot': '3 frinds in college', 'rating': 10}}\n"
     ]
    }
   ],
   "source": [
    "movies.pop('adipurush')\n",
    "print(movies)"
   ]
  }
 ],
 "metadata": {
  "kernelspec": {
   "display_name": "base",
   "language": "python",
   "name": "python3"
  },
  "language_info": {
   "codemirror_mode": {
    "name": "ipython",
    "version": 3
   },
   "file_extension": ".py",
   "mimetype": "text/x-python",
   "name": "python",
   "nbconvert_exporter": "python",
   "pygments_lexer": "ipython3",
   "version": "3.10.10"
  },
  "orig_nbformat": 4
 },
 "nbformat": 4,
 "nbformat_minor": 2
}
