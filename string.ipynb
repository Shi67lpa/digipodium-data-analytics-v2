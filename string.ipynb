{
 "cells": [
  {
   "cell_type": "markdown",
   "metadata": {},
   "source": []
  },
  {
   "cell_type": "code",
   "execution_count": 9,
   "metadata": {},
   "outputs": [
    {
     "name": "stdout",
     "output_type": "stream",
     "text": [
      "\n",
      "13\n",
      "h\n",
      "sandhya singh\n",
      "0 s\n",
      "1 a\n",
      "2 n\n",
      "3 d\n",
      "4 h\n",
      "5 y\n",
      "6 a\n",
      "7  \n",
      "8 s\n",
      "9 i\n",
      "10 n\n",
      "11 g\n",
      "12 h\n",
      "sandhya singh\n",
      "ya singh\n",
      "hya singh\n"
     ]
    }
   ],
   "source": [
    "# string is a sequence of charecter\n",
    "\n",
    "# initialise the string \n",
    "s=''\n",
    "b=''\n",
    "print(str(b))\n",
    "s='sandhya singh'\n",
    "print (len(s))\n",
    "#indexing\n",
    "print(s[4])\n",
    "#slicing\n",
    "print(s[:])\n",
    "for i in range(len(s)):\n",
    "    print(i,s[i])\n",
    "\n",
    "print(s[:])\n",
    "print(s[5:])\n",
    "print(s[4:])"
   ]
  }
 ],
 "metadata": {
  "kernelspec": {
   "display_name": "base",
   "language": "python",
   "name": "python3"
  },
  "language_info": {
   "codemirror_mode": {
    "name": "ipython",
    "version": 3
   },
   "file_extension": ".py",
   "mimetype": "text/x-python",
   "name": "python",
   "nbconvert_exporter": "python",
   "pygments_lexer": "ipython3",
   "version": "3.10.10"
  },
  "orig_nbformat": 4
 },
 "nbformat": 4,
 "nbformat_minor": 2
}
