{
 "cells": [
  {
   "attachments": {},
   "cell_type": "markdown",
   "metadata": {},
   "source": [
    "# for and while loops \n",
    "for - step based loop\n",
    "for i in range(10);\n",
    "print(i)\n",
    "  - iterating over a sequence (list ,tule , string)\n",
    "   - iterating over a loop\n",
    "## while - condition based loop\n",
    "  i = 0 \n",
    "  while i<10:\n",
    "  print(i)\n",
    "  i+=1\n",
    "  - used for \n",
    "    - iterating until a condition is met\n",
    "    -  iterating until a condition is no longer met\n",
    "    -   iterating forever(if you don't break out of it)"
   ]
  },
  {
   "cell_type": "code",
   "execution_count": 2,
   "metadata": {},
   "outputs": [],
   "source": [
    "movies = ['shrek','kungfu panda',\n",
    "          'how to train your dragon','ice age','mirjapur','adipurus','shershah',\n",
    "          'the jungle book','alladin','the little prince']\n"
   ]
  },
  {
   "cell_type": "code",
   "execution_count": 5,
   "metadata": {},
   "outputs": [
    {
     "name": "stdout",
     "output_type": "stream",
     "text": [
      "total movies=10\n"
     ]
    }
   ],
   "source": [
    "print(f'total movies={len (movies)}') "
   ]
  },
  {
   "cell_type": "code",
   "execution_count": 4,
   "metadata": {},
   "outputs": [
    {
     "name": "stdout",
     "output_type": "stream",
     "text": [
      "shrek\n",
      "kungfu panda\n",
      "how to train your dragon\n",
      "ice age\n",
      "mirjapur\n",
      "adipurus\n",
      "shershah\n",
      "the jungle book\n",
      "alladin\n",
      "the little prince\n"
     ]
    }
   ],
   "source": [
    "for movie in movies:\n",
    "    print(movie)"
   ]
  },
  {
   "cell_type": "code",
   "execution_count": 6,
   "metadata": {},
   "outputs": [
    {
     "name": "stdout",
     "output_type": "stream",
     "text": [
      "shrek                          5\n",
      "kungfu panda                   12\n",
      "how to train your dragon       24\n",
      "ice age                        7\n",
      "mirjapur                       8\n",
      "adipurus                       8\n",
      "shershah                       8\n",
      "the jungle book                15\n",
      "alladin                        7\n",
      "the little prince              17\n"
     ]
    }
   ],
   "source": [
    "for movie in movies:\n",
    "    print(f'{movie:30} {len(movie)}')"
   ]
  },
  {
   "cell_type": "code",
   "execution_count": 7,
   "metadata": {},
   "outputs": [
    {
     "name": "stdout",
     "output_type": "stream",
     "text": [
      "32 1024\n",
      "56 3136\n",
      "23 529\n",
      "56 3136\n",
      "12 144\n",
      "12 144\n",
      "67 4489\n",
      "56 3136\n",
      "7 49\n",
      "2 4\n"
     ]
    }
   ],
   "source": [
    "nums = [32,56,23,56,12,12,67,56,7,2]\n",
    "for i in nums:\n",
    "    print(i,i**2)"
   ]
  },
  {
   "cell_type": "code",
   "execution_count": 8,
   "metadata": {},
   "outputs": [
    {
     "name": "stdout",
     "output_type": "stream",
     "text": [
      "32 1024\n",
      "56 3136\n",
      "56 3136\n",
      "12 144\n",
      "12 144\n",
      "56 3136\n",
      "2 4\n"
     ]
    }
   ],
   "source": [
    "for i in nums:\n",
    "    if i % 2 == 0:\n",
    "        print(i,i**2)"
   ]
  },
  {
   "cell_type": "code",
   "execution_count": 9,
   "metadata": {},
   "outputs": [
    {
     "name": "stdout",
     "output_type": "stream",
     "text": [
      "23 529\n",
      "67 4489\n",
      "7 49\n"
     ]
    }
   ],
   "source": [
    "for i in nums:\n",
    "    if i % 2!= 0:\n",
    "        print(i,i**2)"
   ]
  },
  {
   "cell_type": "code",
   "execution_count": 10,
   "metadata": {},
   "outputs": [
    {
     "data": {
      "text/plain": [
       "323"
      ]
     },
     "execution_count": 10,
     "metadata": {},
     "output_type": "execute_result"
    }
   ],
   "source": [
    "sum(nums)"
   ]
  },
  {
   "cell_type": "code",
   "execution_count": 14,
   "metadata": {},
   "outputs": [
    {
     "name": "stdout",
     "output_type": "stream",
     "text": [
      "226\n"
     ]
    }
   ],
   "source": [
    "total_evens = 0\n",
    "for i in nums:\n",
    "    if i % 2 == 0:\n",
    "      total_evens += i\n",
    "print (total_evens)"
   ]
  },
  {
   "cell_type": "code",
   "execution_count": 15,
   "metadata": {},
   "outputs": [
    {
     "name": "stdout",
     "output_type": "stream",
     "text": [
      "32\n",
      "56\n",
      "23\n",
      "56\n",
      "12\n",
      "12\n",
      "67\n"
     ]
    }
   ],
   "source": [
    "for i in nums:\n",
    "    print(i)\n",
    "    if i > 60:\n",
    "        break"
   ]
  },
  {
   "cell_type": "code",
   "execution_count": 18,
   "metadata": {},
   "outputs": [
    {
     "name": "stdout",
     "output_type": "stream",
     "text": [
      "apple\n",
      "potato\n",
      "banana\n"
     ]
    }
   ],
   "source": [
    "x=[\"apple\",'potato','banana','','orange','mango']\n",
    "for item in x:\n",
    "    if len(item) == 0:\n",
    "        break\n",
    "    print(item)"
   ]
  },
  {
   "cell_type": "code",
   "execution_count": 20,
   "metadata": {},
   "outputs": [
    {
     "name": "stdout",
     "output_type": "stream",
     "text": [
      "login successful\n"
     ]
    }
   ],
   "source": [
    "errors = 0\n",
    "while True:\n",
    "    username = input('enter username:')\n",
    "    password = input('enter password:')\n",
    "    if username == 'admin'and password == 'secret':\n",
    "        print('login successful')\n",
    "        break\n",
    "    elif errors == 3:\n",
    "        print('too many errors')\n",
    "        break\n",
    "    else:\n",
    "        print('invalid username/password')\n",
    "        errors += 1"
   ]
  },
  {
   "cell_type": "code",
   "execution_count": 1,
   "metadata": {},
   "outputs": [],
   "source": [
    "x =[\n",
    "    ['english',100],\n",
    "    ['hindi',50],\n",
    "    ['math',150],\n",
    "    ['history',250],\n",
    "    ['economic',200],\n",
    "    \n",
    "]"
   ]
  },
  {
   "cell_type": "code",
   "execution_count": 3,
   "metadata": {},
   "outputs": [
    {
     "name": "stdout",
     "output_type": "stream",
     "text": [
      "english\n",
      "100\n",
      "---\n",
      "hindi\n",
      "50\n",
      "---\n",
      "math\n",
      "150\n",
      "---\n",
      "history\n",
      "250\n",
      "---\n",
      "economic\n",
      "200\n",
      "---\n"
     ]
    }
   ],
   "source": [
    "for item in x:\n",
    "    for data in item:\n",
    "        print(data)\n",
    "    print('---')"
   ]
  },
  {
   "cell_type": "code",
   "execution_count": null,
   "metadata": {},
   "outputs": [],
   "source": []
  }
 ],
 "metadata": {
  "kernelspec": {
   "display_name": "base",
   "language": "python",
   "name": "python3"
  },
  "language_info": {
   "codemirror_mode": {
    "name": "ipython",
    "version": 3
   },
   "file_extension": ".py",
   "mimetype": "text/x-python",
   "name": "python",
   "nbconvert_exporter": "python",
   "pygments_lexer": "ipython3",
   "version": "3.10.10"
  },
  "orig_nbformat": 4
 },
 "nbformat": 4,
 "nbformat_minor": 2
}
