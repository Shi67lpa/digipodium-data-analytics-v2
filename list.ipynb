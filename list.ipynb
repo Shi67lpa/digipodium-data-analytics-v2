{
 "cells": [
  {
   "cell_type": "code",
   "execution_count": 1,
   "metadata": {},
   "outputs": [],
   "source": [
    "# Defining list in python-\n",
    "\n",
    "# List in strings\n",
    "list1 = [\"nikhil\",\"mhesh\",\"nilam\",\"rahul\",\"rishi\"]\n",
    "\n",
    "# List of numbers\n",
    "list2 =[1,2,3,4,5,15,25,100]\n",
    "\n",
    "# Miixed data list \n",
    "list3 =['ravi',90,120,93,28,\"false\",7]\n",
    "\n",
    "#nested list\n",
    "list4=[[135],[1,6,8,7],[1,2]]"
   ]
  },
  {
   "cell_type": "code",
   "execution_count": 16,
   "metadata": {},
   "outputs": [
    {
     "name": "stdout",
     "output_type": "stream",
     "text": [
      "[10, 20, 30, 40]\n",
      "[10, 20, 30, 40, 50]\n"
     ]
    }
   ],
   "source": [
    "# Getting a list slice\n",
    "l = [10,20,30,40,50,60,70,80,90,100]\n",
    "slice1 = l[:4]\n",
    "slice2 =l[0:5]\n",
    "print(slice1)\n",
    "print(slice2)"
   ]
  },
  {
   "cell_type": "code",
   "execution_count": 23,
   "metadata": {},
   "outputs": [
    {
     "name": "stdout",
     "output_type": "stream",
     "text": [
      "[60, 70, 80, 90, 100]\n",
      "[60, 70, 80, 90, 100]\n"
     ]
    }
   ],
   "source": [
    "# Getting a list slice\n",
    "l = [10,20,30,40,50,60,70,80,90,100]\n",
    "slice1 =l[5:]\n",
    "slice2 =l[5:len(l)]\n",
    "print(slice1)\n",
    "print(slice2)\n",
    "\n"
   ]
  },
  {
   "cell_type": "code",
   "execution_count": 3,
   "metadata": {},
   "outputs": [],
   "source": [
    " list1=[1,2,3,'a','b']"
   ]
  },
  {
   "cell_type": "code",
   "execution_count": 4,
   "metadata": {},
   "outputs": [
    {
     "name": "stdout",
     "output_type": "stream",
     "text": [
      "[1, 2, 3, 'a', 'b', 'c', 'd']\n"
     ]
    }
   ],
   "source": [
    "# append \n",
    "list1.append('c')\n",
    "list1.append('d')\n",
    "print(list1)\n"
   ]
  },
  {
   "cell_type": "code",
   "execution_count": 5,
   "metadata": {},
   "outputs": [
    {
     "name": "stdout",
     "output_type": "stream",
     "text": [
      "[1, 2, 3, 'a', 'b', 'c', 'e', 'd']\n"
     ]
    }
   ],
   "source": [
    "list1.insert(-1,'e')\n",
    "print(list1)"
   ]
  }
 ],
 "metadata": {
  "kernelspec": {
   "display_name": "base",
   "language": "python",
   "name": "python3"
  },
  "language_info": {
   "codemirror_mode": {
    "name": "ipython",
    "version": 3
   },
   "file_extension": ".py",
   "mimetype": "text/x-python",
   "name": "python",
   "nbconvert_exporter": "python",
   "pygments_lexer": "ipython3",
   "version": "3.10.10"
  },
  "orig_nbformat": 4
 },
 "nbformat": 4,
 "nbformat_minor": 2
}
