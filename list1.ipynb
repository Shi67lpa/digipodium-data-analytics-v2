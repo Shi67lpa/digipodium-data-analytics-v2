{
 "cells": [
  {
   "cell_type": "code",
   "execution_count": 19,
   "metadata": {},
   "outputs": [
    {
     "name": "stdout",
     "output_type": "stream",
     "text": [
      "[1, 2, 3, 'uday', 'vikram singh']\n",
      "[1, 'python', 2, 3, 'uday', 'vikram singh']\n",
      "vikram singh\n",
      "[1, 'python', 2, 3, 'uday']\n",
      "python\n",
      "[1, 2, 3, 'uday']\n",
      "[1, 2, 3]\n",
      "1000\n",
      "-1\n",
      "[-1, 1000, 6, 5, 4, 3, 2, 1]\n",
      "1\n",
      "[1000, 123, 23, 0, -1, -12234]\n",
      "[1, 2, 3, 4, 5, 6]\n"
     ]
    }
   ],
   "source": [
    "arr=[1,2,3,'uday']\n",
    "arr.append('vikram singh')\n",
    "print(arr)\n",
    "#arr_name.insert(idx,value)\n",
    "arr.insert(1,'python')\n",
    "print(arr)\n",
    "#delete\n",
    "x=arr.pop()\n",
    "print(x)\n",
    "print(arr)\n",
    "print(arr.pop(1))\n",
    "print(arr)\n",
    "\n",
    "arr.remove(\"uday\")\n",
    "print(arr)\n",
    "\n",
    "arr=[1,2,3,4,5,6,1000,-1]\n",
    "print(max(arr))\n",
    "print(min(arr))\n",
    "\n",
    "#reverse\n",
    "#arr.reverse()\n",
    "#print(arr)\n",
    "\n",
    "print(arr[::-1])\n",
    "\n",
    "#count\n",
    "arr=[1,2,3,4,5,1,5,6,3,3,5]\n",
    "print(arr.count(4))\n",
    "\n",
    "#short\n",
    "arr=[0,-1,123,-12234,1000,23]\n",
    "arr.sort(reverse=True)\n",
    "print(arr)\n",
    "\n",
    "#extend\n",
    "arr=[1,2,3]\n",
    "arr.extend([4,5,6])\n",
    "print(arr)\n"
   ]
  }
 ],
 "metadata": {
  "kernelspec": {
   "display_name": "base",
   "language": "python",
   "name": "python3"
  },
  "language_info": {
   "codemirror_mode": {
    "name": "ipython",
    "version": 3
   },
   "file_extension": ".py",
   "mimetype": "text/x-python",
   "name": "python",
   "nbconvert_exporter": "python",
   "pygments_lexer": "ipython3",
   "version": "3.10.10"
  },
  "orig_nbformat": 4
 },
 "nbformat": 4,
 "nbformat_minor": 2
}
